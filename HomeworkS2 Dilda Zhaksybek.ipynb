{
 "cells": [
  {
   "cell_type": "code",
   "execution_count": null,
   "id": "66b7ce19",
   "metadata": {},
   "outputs": [],
   "source": [
    "#Homework S2 (chapter 4)\n"
   ]
  },
  {
   "cell_type": "code",
   "execution_count": 10,
   "id": "32339e5b",
   "metadata": {},
   "outputs": [
    {
     "name": "stdout",
     "output_type": "stream",
     "text": [
      "[1] 0.3775407\n"
     ]
    }
   ],
   "source": [
    "#Ex 6 A\n",
    "prob = (exp(-6+0.05*40+3.5)/(1+exp(-0.5)))\n",
    "print(prob)"
   ]
  },
  {
   "cell_type": "code",
   "execution_count": 17,
   "id": "11bbcdc1",
   "metadata": {},
   "outputs": [
    {
     "data": {
      "text/html": [
       "0"
      ],
      "text/latex": [
       "0"
      ],
      "text/markdown": [
       "0"
      ],
      "text/plain": [
       "[1] 0"
      ]
     },
     "metadata": {},
     "output_type": "display_data"
    },
    {
     "name": "stdout",
     "output_type": "stream",
     "text": [
      "[1] 50\n"
     ]
    }
   ],
   "source": [
    "#Ex 6 B\n",
    "log(0.5/(1-0.5))\n",
    "\n",
    "x = (6 - 3.5)/0.05\n",
    "\n",
    "print(x)"
   ]
  },
  {
   "cell_type": "code",
   "execution_count": null,
   "id": "69a91655",
   "metadata": {},
   "outputs": [],
   "source": [
    "#Ex 8 \n",
    "\n",
    "#The KNN at K = 1 as  the training error is the smallest"
   ]
  },
  {
   "cell_type": "code",
   "execution_count": 25,
   "id": "8d5dacd9",
   "metadata": {},
   "outputs": [
    {
     "name": "stdout",
     "output_type": "stream",
     "text": [
      "[1] 0.5873016\n"
     ]
    }
   ],
   "source": [
    "#Ex 9 A\n",
    "\n",
    "p = (0.37/(1-0.37))\n",
    "\n",
    "print(p)\n",
    "\n",
    "#prob is ~59% for people with odds of 37% to default"
   ]
  },
  {
   "cell_type": "code",
   "execution_count": 26,
   "id": "c42801b4",
   "metadata": {},
   "outputs": [
    {
     "name": "stdout",
     "output_type": "stream",
     "text": [
      "[1] 0.1904762\n"
     ]
    }
   ],
   "source": [
    "#Ex 9 B\n",
    "\n",
    "p = (0.16/(1-0.16))\n",
    "\n",
    "print(p)\n",
    "\n",
    "#prob is ~19% with odds of 16% to default\n"
   ]
  },
  {
   "cell_type": "code",
   "execution_count": 38,
   "id": "f9b7519d",
   "metadata": {},
   "outputs": [
    {
     "data": {
      "text/plain": [
       "      Year           Lag1               Lag2               Lag3         \n",
       " Min.   :1990   Min.   :-18.1950   Min.   :-18.1950   Min.   :-18.1950  \n",
       " 1st Qu.:1995   1st Qu.: -1.1540   1st Qu.: -1.1540   1st Qu.: -1.1580  \n",
       " Median :2000   Median :  0.2410   Median :  0.2410   Median :  0.2410  \n",
       " Mean   :2000   Mean   :  0.1506   Mean   :  0.1511   Mean   :  0.1472  \n",
       " 3rd Qu.:2005   3rd Qu.:  1.4050   3rd Qu.:  1.4090   3rd Qu.:  1.4090  \n",
       " Max.   :2010   Max.   : 12.0260   Max.   : 12.0260   Max.   : 12.0260  \n",
       "      Lag4               Lag5              Volume            Today         \n",
       " Min.   :-18.1950   Min.   :-18.1950   Min.   :0.08747   Min.   :-18.1950  \n",
       " 1st Qu.: -1.1580   1st Qu.: -1.1660   1st Qu.:0.33202   1st Qu.: -1.1540  \n",
       " Median :  0.2380   Median :  0.2340   Median :1.00268   Median :  0.2410  \n",
       " Mean   :  0.1458   Mean   :  0.1399   Mean   :1.57462   Mean   :  0.1499  \n",
       " 3rd Qu.:  1.4090   3rd Qu.:  1.4050   3rd Qu.:2.05373   3rd Qu.:  1.4050  \n",
       " Max.   : 12.0260   Max.   : 12.0260   Max.   :9.32821   Max.   : 12.0260  \n",
       " Direction \n",
       " Down:484  \n",
       " Up  :605  \n",
       "           \n",
       "           \n",
       "           \n",
       "           "
      ]
     },
     "metadata": {},
     "output_type": "display_data"
    },
    {
     "data": {
      "text/html": [
       "<table class=\"dataframe\">\n",
       "<caption>A matrix: 8 × 8 of type dbl</caption>\n",
       "<thead>\n",
       "\t<tr><th></th><th scope=col>Year</th><th scope=col>Lag1</th><th scope=col>Lag2</th><th scope=col>Lag3</th><th scope=col>Lag4</th><th scope=col>Lag5</th><th scope=col>Volume</th><th scope=col>Today</th></tr>\n",
       "</thead>\n",
       "<tbody>\n",
       "\t<tr><th scope=row>Year</th><td> 1.00000000</td><td>-0.032289274</td><td>-0.03339001</td><td>-0.03000649</td><td>-0.031127923</td><td>-0.030519101</td><td> 0.84194162</td><td>-0.032459894</td></tr>\n",
       "\t<tr><th scope=row>Lag1</th><td>-0.03228927</td><td> 1.000000000</td><td>-0.07485305</td><td> 0.05863568</td><td>-0.071273876</td><td>-0.008183096</td><td>-0.06495131</td><td>-0.075031842</td></tr>\n",
       "\t<tr><th scope=row>Lag2</th><td>-0.03339001</td><td>-0.074853051</td><td> 1.00000000</td><td>-0.07572091</td><td> 0.058381535</td><td>-0.072499482</td><td>-0.08551314</td><td> 0.059166717</td></tr>\n",
       "\t<tr><th scope=row>Lag3</th><td>-0.03000649</td><td> 0.058635682</td><td>-0.07572091</td><td> 1.00000000</td><td>-0.075395865</td><td> 0.060657175</td><td>-0.06928771</td><td>-0.071243639</td></tr>\n",
       "\t<tr><th scope=row>Lag4</th><td>-0.03112792</td><td>-0.071273876</td><td> 0.05838153</td><td>-0.07539587</td><td> 1.000000000</td><td>-0.075675027</td><td>-0.06107462</td><td>-0.007825873</td></tr>\n",
       "\t<tr><th scope=row>Lag5</th><td>-0.03051910</td><td>-0.008183096</td><td>-0.07249948</td><td> 0.06065717</td><td>-0.075675027</td><td> 1.000000000</td><td>-0.05851741</td><td> 0.011012698</td></tr>\n",
       "\t<tr><th scope=row>Volume</th><td> 0.84194162</td><td>-0.064951313</td><td>-0.08551314</td><td>-0.06928771</td><td>-0.061074617</td><td>-0.058517414</td><td> 1.00000000</td><td>-0.033077783</td></tr>\n",
       "\t<tr><th scope=row>Today</th><td>-0.03245989</td><td>-0.075031842</td><td> 0.05916672</td><td>-0.07124364</td><td>-0.007825873</td><td> 0.011012698</td><td>-0.03307778</td><td> 1.000000000</td></tr>\n",
       "</tbody>\n",
       "</table>\n"
      ],
      "text/latex": [
       "A matrix: 8 × 8 of type dbl\n",
       "\\begin{tabular}{r|llllllll}\n",
       "  & Year & Lag1 & Lag2 & Lag3 & Lag4 & Lag5 & Volume & Today\\\\\n",
       "\\hline\n",
       "\tYear &  1.00000000 & -0.032289274 & -0.03339001 & -0.03000649 & -0.031127923 & -0.030519101 &  0.84194162 & -0.032459894\\\\\n",
       "\tLag1 & -0.03228927 &  1.000000000 & -0.07485305 &  0.05863568 & -0.071273876 & -0.008183096 & -0.06495131 & -0.075031842\\\\\n",
       "\tLag2 & -0.03339001 & -0.074853051 &  1.00000000 & -0.07572091 &  0.058381535 & -0.072499482 & -0.08551314 &  0.059166717\\\\\n",
       "\tLag3 & -0.03000649 &  0.058635682 & -0.07572091 &  1.00000000 & -0.075395865 &  0.060657175 & -0.06928771 & -0.071243639\\\\\n",
       "\tLag4 & -0.03112792 & -0.071273876 &  0.05838153 & -0.07539587 &  1.000000000 & -0.075675027 & -0.06107462 & -0.007825873\\\\\n",
       "\tLag5 & -0.03051910 & -0.008183096 & -0.07249948 &  0.06065717 & -0.075675027 &  1.000000000 & -0.05851741 &  0.011012698\\\\\n",
       "\tVolume &  0.84194162 & -0.064951313 & -0.08551314 & -0.06928771 & -0.061074617 & -0.058517414 &  1.00000000 & -0.033077783\\\\\n",
       "\tToday & -0.03245989 & -0.075031842 &  0.05916672 & -0.07124364 & -0.007825873 &  0.011012698 & -0.03307778 &  1.000000000\\\\\n",
       "\\end{tabular}\n"
      ],
      "text/markdown": [
       "\n",
       "A matrix: 8 × 8 of type dbl\n",
       "\n",
       "| <!--/--> | Year | Lag1 | Lag2 | Lag3 | Lag4 | Lag5 | Volume | Today |\n",
       "|---|---|---|---|---|---|---|---|---|\n",
       "| Year |  1.00000000 | -0.032289274 | -0.03339001 | -0.03000649 | -0.031127923 | -0.030519101 |  0.84194162 | -0.032459894 |\n",
       "| Lag1 | -0.03228927 |  1.000000000 | -0.07485305 |  0.05863568 | -0.071273876 | -0.008183096 | -0.06495131 | -0.075031842 |\n",
       "| Lag2 | -0.03339001 | -0.074853051 |  1.00000000 | -0.07572091 |  0.058381535 | -0.072499482 | -0.08551314 |  0.059166717 |\n",
       "| Lag3 | -0.03000649 |  0.058635682 | -0.07572091 |  1.00000000 | -0.075395865 |  0.060657175 | -0.06928771 | -0.071243639 |\n",
       "| Lag4 | -0.03112792 | -0.071273876 |  0.05838153 | -0.07539587 |  1.000000000 | -0.075675027 | -0.06107462 | -0.007825873 |\n",
       "| Lag5 | -0.03051910 | -0.008183096 | -0.07249948 |  0.06065717 | -0.075675027 |  1.000000000 | -0.05851741 |  0.011012698 |\n",
       "| Volume |  0.84194162 | -0.064951313 | -0.08551314 | -0.06928771 | -0.061074617 | -0.058517414 |  1.00000000 | -0.033077783 |\n",
       "| Today | -0.03245989 | -0.075031842 |  0.05916672 | -0.07124364 | -0.007825873 |  0.011012698 | -0.03307778 |  1.000000000 |\n",
       "\n"
      ],
      "text/plain": [
       "       Year        Lag1         Lag2        Lag3        Lag4        \n",
       "Year    1.00000000 -0.032289274 -0.03339001 -0.03000649 -0.031127923\n",
       "Lag1   -0.03228927  1.000000000 -0.07485305  0.05863568 -0.071273876\n",
       "Lag2   -0.03339001 -0.074853051  1.00000000 -0.07572091  0.058381535\n",
       "Lag3   -0.03000649  0.058635682 -0.07572091  1.00000000 -0.075395865\n",
       "Lag4   -0.03112792 -0.071273876  0.05838153 -0.07539587  1.000000000\n",
       "Lag5   -0.03051910 -0.008183096 -0.07249948  0.06065717 -0.075675027\n",
       "Volume  0.84194162 -0.064951313 -0.08551314 -0.06928771 -0.061074617\n",
       "Today  -0.03245989 -0.075031842  0.05916672 -0.07124364 -0.007825873\n",
       "       Lag5         Volume      Today       \n",
       "Year   -0.030519101  0.84194162 -0.032459894\n",
       "Lag1   -0.008183096 -0.06495131 -0.075031842\n",
       "Lag2   -0.072499482 -0.08551314  0.059166717\n",
       "Lag3    0.060657175 -0.06928771 -0.071243639\n",
       "Lag4   -0.075675027 -0.06107462 -0.007825873\n",
       "Lag5    1.000000000 -0.05851741  0.011012698\n",
       "Volume -0.058517414  1.00000000 -0.033077783\n",
       "Today   0.011012698 -0.03307778  1.000000000"
      ]
     },
     "metadata": {},
     "output_type": "display_data"
    }
   ],
   "source": [
    "#Ex 10 \n",
    "\n",
    "library(ISLR)\n",
    "\n",
    "#A \n",
    "\n",
    "summary(Weekly)\n",
    "cor(Weekly[,1:8])\n",
    "\n",
    "#according to the correlation matrix, the strongest corr is between year and volume, \n",
    "#while all the rest of the variables show very feeble correlation"
   ]
  },
  {
   "cell_type": "code",
   "execution_count": 39,
   "id": "d8ecf1d2",
   "metadata": {},
   "outputs": [
    {
     "data": {
      "text/plain": [
       "\n",
       "Call:\n",
       "glm(formula = Direction ~ Lag1 + Lag2 + Lag3 + Lag4 + Lag5 + \n",
       "    Volume, family = \"binomial\", data = Weekly)\n",
       "\n",
       "Deviance Residuals: \n",
       "    Min       1Q   Median       3Q      Max  \n",
       "-1.6949  -1.2565   0.9913   1.0849   1.4579  \n",
       "\n",
       "Coefficients:\n",
       "            Estimate Std. Error z value Pr(>|z|)   \n",
       "(Intercept)  0.26686    0.08593   3.106   0.0019 **\n",
       "Lag1        -0.04127    0.02641  -1.563   0.1181   \n",
       "Lag2         0.05844    0.02686   2.175   0.0296 * \n",
       "Lag3        -0.01606    0.02666  -0.602   0.5469   \n",
       "Lag4        -0.02779    0.02646  -1.050   0.2937   \n",
       "Lag5        -0.01447    0.02638  -0.549   0.5833   \n",
       "Volume      -0.02274    0.03690  -0.616   0.5377   \n",
       "---\n",
       "Signif. codes:  0 '***' 0.001 '**' 0.01 '*' 0.05 '.' 0.1 ' ' 1\n",
       "\n",
       "(Dispersion parameter for binomial family taken to be 1)\n",
       "\n",
       "    Null deviance: 1496.2  on 1088  degrees of freedom\n",
       "Residual deviance: 1486.4  on 1082  degrees of freedom\n",
       "AIC: 1500.4\n",
       "\n",
       "Number of Fisher Scoring iterations: 4\n"
      ]
     },
     "metadata": {},
     "output_type": "display_data"
    }
   ],
   "source": [
    "#B\n",
    "md_logreg <- glm(Direction ~ Lag1 + Lag2 + Lag3 + Lag4 + Lag5 + Volume, data=Weekly, family='binomial')\n",
    "summary(md_logreg)"
   ]
  },
  {
   "cell_type": "code",
   "execution_count": 42,
   "id": "bded49a7",
   "metadata": {},
   "outputs": [
    {
     "ename": "ERROR",
     "evalue": "Error in predict.lm(object, newdata, se.fit, scale = 1, type = if (type == : object 'test_lr' not found\n",
     "output_type": "error",
     "traceback": [
      "Error in predict.lm(object, newdata, se.fit, scale = 1, type = if (type == : object 'test_lr' not found\nTraceback:\n",
      "1. predict(md_logreg, newdata = test_lr)",
      "2. predict.glm(md_logreg, newdata = test_lr)",
      "3. predict.lm(object, newdata, se.fit, scale = 1, type = if (type == \n .     \"link\") \"response\" else type, terms = terms, na.action = na.action)"
     ]
    }
   ],
   "source": [
    "#C\n",
    "\n",
    "# Predict and evaluate\n",
    "pred <- predict(md_logreg, newdata=test_lr)\n",
    "\n",
    "# Convert probability to class\n",
    "#threshold <- (table(df$default) / nrow(df))[2]\n",
    "# threshold <- 0.1\n",
    "#print(paste0('Decision threshold=', threshold))\n",
    "#pred_lb <- as.numeric(pred >= threshold)\n",
    "\n",
    "caret::confusionMatrix(as.factor(md_logreg), as.factor(test_lr$default))"
   ]
  },
  {
   "cell_type": "code",
   "execution_count": 47,
   "id": "dfa86964",
   "metadata": {},
   "outputs": [
    {
     "data": {
      "text/plain": [
       "\n",
       "Call:\n",
       "glm(formula = Direction ~ Lag1 + Lag2 + Lag3 + Lag4 + Lag5 + \n",
       "    Volume, family = \"binomial\", data = Weekly_D)\n",
       "\n",
       "Deviance Residuals: \n",
       "    Min       1Q   Median       3Q      Max  \n",
       "-1.7110  -1.2719   0.8643   1.0041   1.4546  \n",
       "\n",
       "Coefficients:\n",
       "            Estimate Std. Error z value Pr(>|z|)\n",
       "(Intercept)  0.47502    0.95259   0.499    0.618\n",
       "Lag1         0.03944    0.06781   0.582    0.561\n",
       "Lag2         0.09575    0.06916   1.384    0.166\n",
       "Lag3        -0.03850    0.06743  -0.571    0.568\n",
       "Lag4        -0.04248    0.06699  -0.634    0.526\n",
       "Lag5         0.08877    0.06939   1.279    0.201\n",
       "Volume      -0.03158    0.18179  -0.174    0.862\n",
       "\n",
       "(Dispersion parameter for binomial family taken to be 1)\n",
       "\n",
       "    Null deviance: 141.04  on 103  degrees of freedom\n",
       "Residual deviance: 136.54  on  97  degrees of freedom\n",
       "AIC: 150.54\n",
       "\n",
       "Number of Fisher Scoring iterations: 4\n"
      ]
     },
     "metadata": {},
     "output_type": "display_data"
    }
   ],
   "source": [
    "#D\n",
    "library(dplyr)\n",
    "attach(Weekly)\n",
    "filter = (Year < 2009)\n",
    "Weekly_D = Weekly[!filter,]\n",
    "\n",
    "md_logreg <- glm(Direction ~ Lag1 + Lag2 + Lag3 + Lag4 + Lag5 + Volume, data=Weekly_D, family='binomial')\n",
    "summary(md_logreg)\n"
   ]
  },
  {
   "cell_type": "code",
   "execution_count": null,
   "id": "e4a74b35",
   "metadata": {},
   "outputs": [],
   "source": []
  }
 ],
 "metadata": {
  "kernelspec": {
   "display_name": "R",
   "language": "R",
   "name": "ir"
  },
  "language_info": {
   "codemirror_mode": "r",
   "file_extension": ".r",
   "mimetype": "text/x-r-source",
   "name": "R",
   "pygments_lexer": "r",
   "version": "4.0.5"
  }
 },
 "nbformat": 4,
 "nbformat_minor": 5
}
