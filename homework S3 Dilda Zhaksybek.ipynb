{
 "cells": [
  {
   "cell_type": "markdown",
   "metadata": {},
   "source": [
    "exercise 3 chapter 5\n",
    "\n",
    "a) explain how k-fold cross validation is implemented:\n",
    "\n",
    "Approach involves randomly dividing the set of observations into k groups, or folds, of approximately equal size.\n",
    "First fold is a validation set. The method is then fit on the remaining k-1 folds. MSE is then calculated on the remaining k-1 folds. \n",
    "cross validation estimate is computed by averaging MSE values. \n",
    "\n",
    "b) what are the advatages and disadvatages of kfold CV relative to: \n",
    "    \n",
    "    i. validation set approach: \n",
    "        Simple and easileasy to implement. \n",
    "\n",
    "    ii. LOOCV:\n",
    "        LOOCV is the most computationally expensive. LOOCV has higher variance, but lower bias, than k-fold CV.\n"
   ]
  },
  {
   "cell_type": "markdown",
   "metadata": {},
   "source": [
    "exercise 8 chapter 5"
   ]
  },
  {
   "cell_type": "code",
   "execution_count": 6,
   "metadata": {},
   "outputs": [
    {
     "data": {
      "text/html": [
       "<ol class=list-inline>\n",
       "\t<li>7.28816160667281</li>\n",
       "\t<li>7.28474411546929</li>\n",
       "</ol>\n"
      ],
      "text/latex": [
       "\\begin{enumerate*}\n",
       "\\item 7.28816160667281\n",
       "\\item 7.28474411546929\n",
       "\\end{enumerate*}\n"
      ],
      "text/markdown": [
       "1. 7.28816160667281\n",
       "2. 7.28474411546929\n",
       "\n",
       "\n"
      ],
      "text/plain": [
       "[1] 7.288162 7.284744"
      ]
     },
     "metadata": {},
     "output_type": "display_data"
    },
    {
     "name": "stdout",
     "output_type": "stream",
     "text": [
      "[1] 0.94 0.94\n",
      "[1] 0.957 0.956\n",
      "[1] 0.9539 0.9534\n"
     ]
    },
    {
     "data": {
      "image/png": "[encoded data removed]",
      "text/plain": [
       "plot without title"
      ]
     },
     "metadata": {},
     "output_type": "display_data"
    }
   ],
   "source": [
    "\n",
    "#a) generate a simulated dataset: \n",
    "\n",
    "set.seed(1)\n",
    "x=rnorm(100)\n",
    "y=x-2*x^2+rnorm(100)\n",
    "\n",
    "# n = 100\n",
    "# p = 2\n",
    "\n",
    "# y = x-2x^2+error\n",
    "\n",
    "#b) scatterplot \n",
    "\n",
    "plot(x,y)\n",
    "\n",
    "#c) LOOCV error using least squares \n",
    "#install.packages(\"boot\")\n",
    "library(boot)\n",
    "ex8_ch5  =  data.frame(x,y)\n",
    "set.seed(1)\n",
    "\n",
    "#i\n",
    "glm.fit = glm(y ~ x, data = ex8_ch5)\n",
    "cv.glm(ex8_ch5,glm.fit)$delta\n",
    "\n",
    "#ii, iii, iv    \n",
    "for (i in 2:4){\n",
    "    glm.fit = glm(y ~poly(x,i), data = ex8_ch5)\n",
    "    print(cv.glm(ex8_ch5,glm.fit)$delta, i)\n",
    "}\n",
    "\n"
   ]
  },
  {
   "cell_type": "code",
   "execution_count": 3,
   "metadata": {},
   "outputs": [
    {
     "data": {
      "text/html": [
       "<ol class=list-inline>\n",
       "\t<li>7.28816160667281</li>\n",
       "\t<li>7.28474411546929</li>\n",
       "</ol>\n"
      ],
      "text/latex": [
       "\\begin{enumerate*}\n",
       "\\item 7.28816160667281\n",
       "\\item 7.28474411546929\n",
       "\\end{enumerate*}\n"
      ],
      "text/markdown": [
       "1. 7.28816160667281\n",
       "2. 7.28474411546929\n",
       "\n",
       "\n"
      ],
      "text/plain": [
       "[1] 7.288162 7.284744"
      ]
     },
     "metadata": {},
     "output_type": "display_data"
    },
    {
     "name": "stdout",
     "output_type": "stream",
     "text": [
      "[1] 0.94 0.94\n",
      "[1] 0.957 0.956\n",
      "[1] 0.9539 0.9534\n"
     ]
    }
   ],
   "source": [
    "#d\n",
    "ex8_ch5  =  data.frame(x,y)\n",
    "set.seed(123)\n",
    "\n",
    "#i\n",
    "glm.fit = glm(y ~ x, data = ex8_ch5)\n",
    "cv.glm(ex8_ch5,glm.fit)$delta\n",
    "\n",
    "#ii, iii, iv    \n",
    "for (i in 2:4){\n",
    "    glm.fit = glm(y ~poly(x,i), data = ex8_ch5)\n",
    "    print(cv.glm(ex8_ch5,glm.fit)$delta, i)\n",
    "}\n",
    "\n",
    "#Same results, since LOOCV evaluates n folds of a single observation."
   ]
  },
  {
   "cell_type": "code",
   "execution_count": null,
   "metadata": {},
   "outputs": [],
   "source": [
    "#e) quadratic polynomial "
   ]
  },
  {
   "cell_type": "markdown",
   "metadata": {},
   "source": [
    "exercise 1 chapter 6"
   ]
  },
  {
   "cell_type": "markdown",
   "metadata": {},
   "source": [
    "a) Best subset selection, as it considers all possible variation of variables, choosing the best one available.\n",
    "b) forward or backwards stepwise as it avoids overfitting the train data\n",
    "c) \n",
    "i. True\n",
    "ii. True \n",
    "iii. False \n",
    "iv. False \n",
    "v. False"
   ]
  },
  {
   "cell_type": "markdown",
   "metadata": {},
   "source": [
    "exercise 9 chapter 6"
   ]
  },
  {
   "cell_type": "code",
   "execution_count": 22,
   "metadata": {},
   "outputs": [],
   "source": [
    "#a\n",
    "#install.packages(\"ISLR\")\n",
    "library(ISLR)\n",
    "set.seed(1)\n",
    "\n",
    "train = sample(1:nrow(College),nrow(College)/2)\n",
    "test = (-train)\n",
    "\n",
    "college_train = College[train,]\n",
    "college_test = College[test,]\n"
   ]
  },
  {
   "cell_type": "code",
   "execution_count": 20,
   "metadata": {},
   "outputs": [
    {
     "data": {
      "text/html": [
       "1135758.31783053"
      ],
      "text/latex": [
       "1135758.31783053"
      ],
      "text/markdown": [
       "1135758.31783053"
      ],
      "text/plain": [
       "[1] 1135758"
      ]
     },
     "metadata": {},
     "output_type": "display_data"
    }
   ],
   "source": [
    "#b\n",
    "lm_coll = lm(Apps ~., data= college_train)\n",
    "lm_pred = predict(lm_coll, college_test)\n",
    "mean((college_test[, \"Apps\"] - lm_pred)^2)"
   ]
  },
  {
   "cell_type": "code",
   "execution_count": 38,
   "metadata": {},
   "outputs": [
    {
     "data": {
      "text/html": [
       "1119866.79697274"
      ],
      "text/latex": [
       "1119866.79697274"
      ],
      "text/markdown": [
       "1119866.79697274"
      ],
      "text/plain": [
       "[1] 1119867"
      ]
     },
     "metadata": {},
     "output_type": "display_data"
    }
   ],
   "source": [
    "#c\n",
    "#install.packages('glmnet')\n",
    "library(glmnet)\n",
    "a = model.matrix(Apps~., data=College)\n",
    "b = College$Apps\n",
    "\n",
    "\n",
    "grid = 10 ^ seq(10, -2, length=100)\n",
    "ridge.mod = glmnet(a[train,], b[train], alpha = 0, lambda = grid)\n",
    "ridge.pred = predict(ridge.mod, s = 4, newx = a[test,])\n",
    "b.test = b[test]\n",
    "mean((ridge.pred-b.test)^2)\n"
   ]
  },
  {
   "cell_type": "code",
   "execution_count": null,
   "metadata": {},
   "outputs": [],
   "source": [
    "#d\n"
   ]
  },
  {
   "cell_type": "markdown",
   "metadata": {},
   "source": [
    "exercise 10 chapter 7 \n"
   ]
  },
  {
   "cell_type": "code",
   "execution_count": null,
   "metadata": {},
   "outputs": [],
   "source": [
    "#a\n",
    "set.seed(1)\n",
    "\n",
    "train = sample(1:nrow(College),nrow(College)/2)\n",
    "test = (-train)\n",
    "\n",
    "college_train = College[train,]\n",
    "college_test = College[test,]\n",
    "\n",
    "#b\n",
    "gam = lm(App ~.)\n"
   ]
  }
 ],
 "metadata": {
  "interpreter": {
   "hash": "81e0b57edd17c3833f38e5d4db6db81e2c0f982e51ee4890d9e870805c7d8a75"
  },
  "kernelspec": {
   "display_name": "R",
   "language": "R",
   "name": "python388jvsc74a57bd0a707b6ce8c685eb936424fcc3009d4b4b7a52543c4db09380a3fc49186ceb509"
  },
  "language_info": {
   "codemirror_mode": "r",
   "file_extension": ".r",
   "mimetype": "text/x-r-source",
   "name": "R",
   "pygments_lexer": "r",
   "version": "3.6.1"
  },
  "orig_nbformat": 4
 },
 "nbformat": 4,
 "nbformat_minor": 2
}
